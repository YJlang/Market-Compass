{
 "cells": [
  {
   "cell_type": "code",
   "execution_count": 1,
   "id": "eb8167fb-8ebc-43d1-a842-985202de2b47",
   "metadata": {},
   "outputs": [
    {
     "name": "stdout",
     "output_type": "stream",
     "text": [
      "----- 전처리된 데이터 불러오기 성공 -----\n",
      "\n",
      "----- BERTopic 입력용 문서 샘플 -----\n",
      "0    애정 오늘 다양 모찌리도후 품절 안쪽 자리 리모델링 안주 금액 최고입니댜 범계 맛집...\n",
      "1               인기 모찌리도후 오늘 마지막 해물야끼 우동 처음 범계 술집 범계 맛집\n",
      "2    인계동 범계 공휴일 저녁 웨이팅 안내 김치 카츠 모듬 꼬치 가격대 꼬치 종류 랜덤 ...\n",
      "3                         범계 술집 범계 맛집 모임 장소 남편 데이트 분위기\n",
      "4                       범계 술집 안주 음료 소주 재미 본관 별관 분위기 만족\n",
      "Name: tokens, dtype: object\n",
      "\n",
      "----- BERTopic 모델 학습 시작 -----\n",
      "----- 사용할 디바이스: CPU -----\n"
     ]
    },
    {
     "data": {
      "application/vnd.jupyter.widget-view+json": {
       "model_id": "156359bef3014fb587f949a557c46229",
       "version_major": 2,
       "version_minor": 0
      },
      "text/plain": [
       "tokenizer_config.json:   0%|          | 0.00/538 [00:00<?, ?B/s]"
      ]
     },
     "metadata": {},
     "output_type": "display_data"
    },
    {
     "data": {
      "application/vnd.jupyter.widget-view+json": {
       "model_id": "cbe7d389ecbe4c71a7bf93bfbce21ed6",
       "version_major": 2,
       "version_minor": 0
      },
      "text/plain": [
       "vocab.txt: 0.00B [00:00, ?B/s]"
      ]
     },
     "metadata": {},
     "output_type": "display_data"
    },
    {
     "data": {
      "application/vnd.jupyter.widget-view+json": {
       "model_id": "8a61c47b10cc41c5b8c39a9b7cb8045d",
       "version_major": 2,
       "version_minor": 0
      },
      "text/plain": [
       "tokenizer.json: 0.00B [00:00, ?B/s]"
      ]
     },
     "metadata": {},
     "output_type": "display_data"
    },
    {
     "data": {
      "application/vnd.jupyter.widget-view+json": {
       "model_id": "5d706bfe7bbf44a6920d57a90b66c476",
       "version_major": 2,
       "version_minor": 0
      },
      "text/plain": [
       "special_tokens_map.json:   0%|          | 0.00/112 [00:00<?, ?B/s]"
      ]
     },
     "metadata": {},
     "output_type": "display_data"
    },
    {
     "data": {
      "application/vnd.jupyter.widget-view+json": {
       "model_id": "ba553ce8ebaf43cb9823231c8f7c20ce",
       "version_major": 2,
       "version_minor": 0
      },
      "text/plain": [
       "config.json:   0%|          | 0.00/190 [00:00<?, ?B/s]"
      ]
     },
     "metadata": {},
     "output_type": "display_data"
    },
    {
     "name": "stderr",
     "output_type": "stream",
     "text": [
      "2025-09-25 12:45:44,441 - BERTopic - Embedding - Transforming documents to embeddings.\n"
     ]
    },
    {
     "data": {
      "application/vnd.jupyter.widget-view+json": {
       "model_id": "326beb666fc743b89448321515c0f3fc",
       "version_major": 2,
       "version_minor": 0
      },
      "text/plain": [
       "Batches:   0%|          | 0/4 [00:00<?, ?it/s]"
      ]
     },
     "metadata": {},
     "output_type": "display_data"
    },
    {
     "name": "stderr",
     "output_type": "stream",
     "text": [
      "2025-09-25 12:45:47,224 - BERTopic - Embedding - Completed ✓\n",
      "2025-09-25 12:45:47,229 - BERTopic - Dimensionality - Fitting the dimensionality reduction algorithm\n",
      "2025-09-25 12:45:55,385 - BERTopic - Dimensionality - Completed ✓\n",
      "2025-09-25 12:45:55,386 - BERTopic - Cluster - Start clustering the reduced embeddings\n",
      "2025-09-25 12:45:55,392 - BERTopic - Cluster - Completed ✓\n",
      "2025-09-25 12:45:55,395 - BERTopic - Representation - Fine-tuning topics using representation models.\n",
      "2025-09-25 12:45:55,409 - BERTopic - Representation - Completed ✓\n"
     ]
    },
    {
     "name": "stdout",
     "output_type": "stream",
     "text": [
      "\n",
      "----- 토픽 할당 결과 -----\n",
      "                                              review  topic\n",
      "0  언제나 애정하는 잔잔입니다:)\\n오늘은\\n다양하게 먹어봤어오! 모찌리도후는\\n먹고싶...      0\n",
      "1  인기많은 모찌리도후 오늘은 마지막으로 겟 했습니다:)\\n해물야끼우동 처음 먹어보는데...      0\n",
      "2  항상 인계동에서만 가봤다가 범계는 처음 가봤어요. 공휴일 저녁이라 역시 웨이팅이 있...      1\n",
      "3  #범계술집#범계맛집#범계모임장소\\n남편과 데이트 할때면 무조건 오는 잔잔~^^\\n맛...      0\n",
      "4  범계술집하면 믿고 먹는 잔잔이죠 !! 안주 뭘 시켜도 너무 맛있고 하이볼 음료 삼아...      0\n",
      "5  매번 지나가면서 와야지 와야지 하다 드디어 처음 와봣는데 생맥주 너무 맛잇네요~ 매...      0\n",
      "6  저번에 맛있어서 또 방문했어요ㅎㅎ 범계 술집 맛집 답게 사람도 많고 음식도 역시 맛...     -1\n",
      "7  이자카야 잔잔 정말 맛있습니다. 일본식 안주 좋아하시면 강추드립니다. 분위기도 아늑...      2\n",
      "8  범계 술집 잔잔!!!\\n검색하고 왔는데 분위기는 기본 친절한 서비스~~\\n넘넘 기분...      2\n",
      "9  범계역에서 동료들과 1차 끝내고 2차 장소 찾다가 들어왔어요. 최근 일본 여행을 많...      2\n",
      "\n",
      "----- 전체 토픽 정보 -----\n",
      "   Topic  Count              Name  \\\n",
      "0     -1     13    -1_음식_오늘_저번_만족   \n",
      "1      0     27     0_술집_범계_안주_맛집   \n",
      "2      1     22  1_볶음밥_일본_웨이팅_파스타   \n",
      "3      2     20  2_이자카야_이태원_범계_사장   \n",
      "4      3     14     3_친절_직원_감사_음식   \n",
      "5      4      8   4_구이_테바사키_고기_차원   \n",
      "6      5      8     5_만족_특별_생각_안주   \n",
      "7      6      5    6_시간_친구_대기_웨이팅   \n",
      "\n",
      "                                  Representation  \\\n",
      "0     [음식, 오늘, 저번, 만족, 술집, 카츠, 김치, 범계, 닭고기, 사시미]   \n",
      "1   [술집, 범계, 안주, 맛집, 다양, 분위기, 모찌리도후, 자리, 종류, 다음]   \n",
      "2    [볶음밥, 일본, 웨이팅, 파스타, 카레, 메뉴, 구이, 튀김, 부위, 기본]   \n",
      "3   [이자카야, 이태원, 범계, 사장, 술집, 분위기, 안양, 안주, 가족, 실패]   \n",
      "4       [친절, 직원, 감사, 음식, 기분, 최고, 의사, 부위, 사장, 식사]   \n",
      "5  [구이, 테바사키, 고기, 차원, 부속, 친구, 유명, 고노와다, 광어회, 모양]   \n",
      "6     [만족, 특별, 생각, 안주, 분위기, 잡내, 오늘, 오랜만, 다음, 음식]   \n",
      "7   [시간, 친구, 대기, 웨이팅, 추억, 시간대, 예약, 일요일, 토요일, 피크]   \n",
      "\n",
      "                                 Representative_Docs  \n",
      "0  [말모말모 김치 카츠 느낌 아이스크림 튀김 마싯어요 구리 조은 안주 범계 술집 범계...  \n",
      "1  [범계 술집 술집 단골, 애정 오늘 다양 모찌리도후 품절 안쪽 자리 리모델링 안주 ...  \n",
      "2  [일본 안양 맛집 메인 메뉴 에피타이저 껍질 튀김 샐러드 국물 일품 매장 분위기 일...  \n",
      "3  [오랜만 이태원 범계 이자카야, 안양 범계 분위기 술집 이자카야 이태원 처음 지인 ...  \n",
      "4  [다양 부위 닭고기 날개 가게 소수 인원 웨이팅 식당 직원 친절 기분 식사, 직원 ...  \n",
      "5  [유명 구이 점심 식사 테바사키 가능 친절 저녁 남친 구이, 범계 맛집 구이 맛집 ...  \n",
      "6                       [생각 잡내 다음, 안주 만족, 음식 분위기 만족]  \n",
      "7  [남자친구 기념일 대기 시간, 친구 남자 친구 오늘 웨이팅 저녁 시간대 정도 직원 ...  \n",
      "\n",
      "----- 토픽별 상위 키워드 -----\n",
      "Topic 0: ['술집', '범계', '안주', '맛집', '다양', '분위기', '모찌리도후', '자리', '종류', '다음']\n",
      "Topic 1: ['볶음밥', '일본', '웨이팅', '파스타', '카레', '메뉴', '구이', '튀김', '부위', '기본']\n",
      "Topic 2: ['이자카야', '이태원', '범계', '사장', '술집', '분위기', '안양', '안주', '가족', '실패']\n",
      "Topic 3: ['친절', '직원', '감사', '음식', '기분', '최고', '의사', '부위', '사장', '식사']\n",
      "Topic 4: ['구이', '테바사키', '고기', '차원', '부속', '친구', '유명', '고노와다', '광어회', '모양']\n",
      "Topic 5: ['만족', '특별', '생각', '안주', '분위기', '잡내', '오늘', '오랜만', '다음', '음식']\n",
      "Topic 6: ['시간', '친구', '대기', '웨이팅', '추억', '시간대', '예약', '일요일', '토요일', '피크']\n",
      "\n",
      "\n",
      "✅ 토픽 모델링이 완료되어 '../data/reviews_with_topics.csv' 파일과 '../models/bertopic_model'을 저장했습니다.\n"
     ]
    }
   ],
   "source": [
    "# ======================================================================\n",
    "# ⚙️ 0. 라이브러리 임포트 및 분석 시작\n",
    "# ======================================================================\n",
    "# 이 코드를 실행하기 전, cmd에서 아래 라이브러리가 설치되었는지 확인해주세요.\n",
    "# pip install bertopic pandas torch\n",
    "# ======================================================================\n",
    "import pandas as pd\n",
    "from bertopic import BERTopic\n",
    "from sentence_transformers import SentenceTransformer\n",
    "from ast import literal_eval\n",
    "import os\n",
    "import torch\n",
    "\n",
    "# 1. 전처리된 데이터 불러오기\n",
    "try:\n",
    "    # notebooks 폴더의 상위 폴더(my_thesis)에 있는 data 폴더를 가리키도록 수정\n",
    "    df = pd.read_csv('../data/processed_reviews.csv')\n",
    "    df['tokens'] = df['tokens'].apply(literal_eval)\n",
    "    print(\"----- 전처리된 데이터 불러오기 성공 -----\")\n",
    "except FileNotFoundError:\n",
    "    print(\"오류: '../data/processed_reviews.csv' 파일을 찾을 수 없습니다. 02_preprocessing.ipynb를 먼저 실행했는지 확인하세요.\")\n",
    "    exit()\n",
    "\n",
    "# 2. BERTopic 모델 학습을 위한 데이터 준비\n",
    "documents = df['tokens'].apply(lambda tokens: ' '.join(tokens))\n",
    "print(\"\\n----- BERTopic 입력용 문서 샘플 -----\")\n",
    "print(documents.head())\n",
    "\n",
    "# 3. BERTopic 모델 초기화 및 학습\n",
    "print(\"\\n----- BERTopic 모델 학습 시작 -----\")\n",
    "\n",
    "# GPU(CUDA) 사용 설정\n",
    "# CUDA를 사용할 수 있으면 'cuda'를, 그렇지 않으면 'cpu'를 자동으로 선택합니다.\n",
    "device = \"cuda\" if torch.cuda.is_available() else \"cpu\"\n",
    "print(f\"----- 사용할 디바이스: {device.upper()} -----\")\n",
    "\n",
    "# SentenceTransformer 모델을 미리 GPU에 로드합니다.\n",
    "embedding_model_name = \"jhgan/ko-sbert-nli\"\n",
    "embedding_model = SentenceTransformer(embedding_model_name, device=device)\n",
    "\n",
    "# BERTopic 모델에 GPU에 로드된 모델 '객체'를 직접 전달합니다.\n",
    "topic_model = BERTopic(embedding_model=embedding_model,\n",
    "                       verbose=True,\n",
    "                       min_topic_size=3)\n",
    "\n",
    "# 모델 학습\n",
    "topics, probs = topic_model.fit_transform(documents)\n",
    "\n",
    "# 4. 분석 결과 확인 및 저장\n",
    "df['topic'] = topics\n",
    "\n",
    "print(\"\\n----- 토픽 할당 결과 -----\")\n",
    "print(df[['review', 'topic']].head(10))\n",
    "\n",
    "topic_info = topic_model.get_topic_info()\n",
    "print(\"\\n----- 전체 토픽 정보 -----\")\n",
    "print(topic_info)\n",
    "\n",
    "print(\"\\n----- 토픽별 상위 키워드 -----\")\n",
    "for i in range(len(topic_info)):\n",
    "    topic_num = topic_info.iloc[i][\"Topic\"]\n",
    "    if topic_num == -1: continue # -1은 이상치(outlier) 토픽이므로 건너뜁니다.\n",
    "    keywords = topic_model.get_topic(topic_num)\n",
    "    print(f\"Topic {topic_num}: {[keyword[0] for keyword in keywords]}\")\n",
    "\n",
    "# 5. 결과 저장\n",
    "# 상위 폴더에 models 폴더를 생성하도록 수정\n",
    "if not os.path.exists(\"../models\"):\n",
    "    os.makedirs(\"../models\")\n",
    "\n",
    "# 상위 폴더의 data 폴더에 저장하도록 수정\n",
    "df.to_csv('../data/reviews_with_topics.csv', index=False, encoding='utf-8-sig')\n",
    "# 상위 폴더의 models 폴더에 저장하도록 수정\n",
    "topic_model.save(\"../models/bertopic_model\", serialization=\"safetensors\")\n",
    "\n",
    "print(f\"\\n\\n✅ 토픽 모델링이 완료되어 '../data/reviews_with_topics.csv' 파일과 '../models/bertopic_model'을 저장했습니다.\")\n",
    "\n"
   ]
  },
  {
   "cell_type": "code",
   "execution_count": null,
   "id": "97008b97-9221-4e0c-8bbe-efd4fdcd7119",
   "metadata": {},
   "outputs": [],
   "source": []
  }
 ],
 "metadata": {
  "kernelspec": {
   "display_name": "Python 3 (ipykernel)",
   "language": "python",
   "name": "python3"
  },
  "language_info": {
   "codemirror_mode": {
    "name": "ipython",
    "version": 3
   },
   "file_extension": ".py",
   "mimetype": "text/x-python",
   "name": "python",
   "nbconvert_exporter": "python",
   "pygments_lexer": "ipython3",
   "version": "3.9.13"
  }
 },
 "nbformat": 4,
 "nbformat_minor": 5
}
